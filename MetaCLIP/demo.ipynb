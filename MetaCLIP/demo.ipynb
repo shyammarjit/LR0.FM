{
 "cells": [
  {
   "cell_type": "code",
   "execution_count": 1,
   "metadata": {},
   "outputs": [],
   "source": [
    "import json\n",
    "import numpy as np\n",
    "from metaclip.substr_matching import substr_matching\n",
    "from metaclip.balancing import balance_sampling\n",
    "\n",
    "with open(\"metadata.json\") as f:\n",
    "  metadata = json.load(f)\n",
    "# entry counts for our 1.6B(pool) -> 400M(curated); please check balance_sampling:main and substr match and count on your own data.\n",
    "with open(\"metaclip/entry_counts_400m.json\") as f:\n",
    "  entry_count_json = json.load(f)\n",
    "entry_count = np.array([entry_count_json[entry] for entry in metadata], dtype=np.uint64)  # uint64 to be safe for scaling."
   ]
  },
  {
   "cell_type": "code",
   "execution_count": 2,
   "metadata": {},
   "outputs": [],
   "source": [
    "t = 20000\n",
    "entry_count[entry_count < t] = t\n",
    "entry_prob = t / entry_count"
   ]
  },
  {
   "cell_type": "code",
   "execution_count": 3,
   "metadata": {},
   "outputs": [
    {
     "name": "stdout",
     "output_type": "stream",
     "text": [
      "'jacksons chameleon' curated\n",
      "'trombone model' curated\n",
      "'Adult T-shirt' curated\n"
     ]
    }
   ],
   "source": [
    "# try multiple times for chance of sampling an example.\n",
    "texts = [\n",
    "    [\"alt\", \"jacksons chameleon\", None],\n",
    "    [\"alt\", \"battery plate\", None],\n",
    "    [\"alt\", \"trombone model\", None],\n",
    "    [\"alt\", \"Adult T-shirt\", None],\n",
    "]\n",
    "\n",
    "for text in texts:\n",
    "  text[2] = substr_matching(text[1], metadata)\n",
    "  curation_prob = min(entry_prob[text[2]].sum(), 1.0)\n",
    "  curated = balance_sampling(text[2], entry_prob)\n",
    "  print(f\"[curation_prob={curation_prob:.3f}, curated={curated}] {text[1]}\")"
   ]
  },
  {
   "cell_type": "code",
   "execution_count": 4,
   "metadata": {},
   "outputs": [
    {
     "data": {
      "text/html": [
       "<font size=\"10\", color=\"#008080\">jacksons</font> <font size=\"10\", color=\"#008080\">chameleon</font>"
      ],
      "text/plain": [
       "<IPython.core.display.HTML object>"
      ]
     },
     "metadata": {},
     "output_type": "display_data"
    },
    {
     "data": {
      "text/html": [
       "<font size=\"4\", color=\"#008080\">battery</font> <font size=\"4\", color=\"#008080\">plate</font>"
      ],
      "text/plain": [
       "<IPython.core.display.HTML object>"
      ]
     },
     "metadata": {},
     "output_type": "display_data"
    },
    {
     "data": {
      "text/html": [
       "<font size=\"10\", color=\"#008080\">trombone</font> <font size=\"4\", color=\"#008080\">model</font>"
      ],
      "text/plain": [
       "<IPython.core.display.HTML object>"
      ]
     },
     "metadata": {},
     "output_type": "display_data"
    },
    {
     "data": {
      "text/html": [
       "Adult <font size=\"4\", color=\"#008080\">T-shirt</font>"
      ],
      "text/plain": [
       "<IPython.core.display.HTML object>"
      ]
     },
     "metadata": {},
     "output_type": "display_data"
    }
   ],
   "source": [
    "from IPython.display import display, HTML\n",
    "min_font_size = 4\n",
    "max_font_size = 10\n",
    "\n",
    "for text in texts:\n",
    "    raw_text = text[1]\n",
    "    for entry_id in text[2]:\n",
    "        entry = metadata[entry_id]\n",
    "        font_size = min_font_size + int((max_font_size - min_font_size) * entry_prob[entry_id])\n",
    "        raw_text = raw_text.replace(entry, '<font size=\"{}\", color=\"#008080\">{}</font>'.format(font_size, entry))\n",
    "    display(HTML(raw_text))"
   ]
  },
  {
   "cell_type": "code",
   "execution_count": null,
   "metadata": {},
   "outputs": [],
   "source": []
  }
 ],
 "metadata": {
  "kernelspec": {
   "display_name": "openclip",
   "language": "python",
   "name": "openclip"
  },
  "language_info": {
   "codemirror_mode": {
    "name": "ipython",
    "version": 3
   },
   "file_extension": ".py",
   "mimetype": "text/x-python",
   "name": "python",
   "nbconvert_exporter": "python",
   "pygments_lexer": "ipython3",
   "version": "3.10.8"
  }
 },
 "nbformat": 4,
 "nbformat_minor": 4
}
